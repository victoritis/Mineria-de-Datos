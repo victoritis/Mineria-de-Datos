{
 "cells": [
  {
   "cell_type": "markdown",
   "metadata": {},
   "source": [
    "<img style=\"float:left\" width=\"70%\" src=\"pics/escudo_COLOR_1L_DCHA.png\">\n",
    "<img style=\"float:right\" width=\"15%\" src=\"pics/PythonLogo.svg\">\n",
    "<br style=\"clear:both;\">\n",
    "\n",
    "# Minería de datos\n",
    "\n",
    "<h2 style=\"display: inline-block; padding: 4mm; padding-left: 2em; background-color: navy; line-height: 1.3em; color: white; border-radius: 10px;\">Práctica Scikit-Learn 2.1: Experimentos</h2>\n",
    "\n",
    "## Docentes\n",
    "\n",
    " - José Francisco Diez Pastor\n",
    " - Jonas Grabbe\n",
    "\n",
    " \n",
    "## Estudiantes (1-2)\n",
    "\n",
    "- Estudiante 1 \n",
    "- Estudiante 2"
   ]
  },
  {
   "cell_type": "markdown",
   "metadata": {},
   "source": [
    "## Descripción de la práctica\n",
    "\n",
    "\n",
    "La segunda prácticas de SkLearn está dividida en dos partes:\n",
    "- 2.1 Experimentos\n",
    "- 2.2 Implementación de algoritmos propios.\n",
    "\n",
    "En este primer notebook solo vamos a hacer la primera parte."
   ]
  },
  {
   "cell_type": "markdown",
   "metadata": {},
   "source": [
    "## Descripción de los datos\n",
    "\n",
    "Los experimentos para prácticar con los pipelines de selección de atributos y la optimización de parámetros se realizarán con conjuntos de datos de Sklearn que han sido modificados para que tengan atributos adicionales ruidosos.\n",
    "\n",
    "La idea es simular conjuntos de datos reales en donde puede haber atributos mal medidos o mal almacenados en la base de datos.\n",
    "\n",
    "\n",
    "\n"
   ]
  },
  {
   "cell_type": "code",
   "execution_count": 1,
   "metadata": {},
   "outputs": [
    {
     "data": {
      "text/plain": [
       "array([[ 1,  2,  5,  6],\n",
       "       [ 3,  4,  1,  2],\n",
       "       [ 5,  6,  3,  4],\n",
       "       [ 7,  8,  7,  8],\n",
       "       [ 9, 10,  9, 10]])"
      ]
     },
     "execution_count": 1,
     "metadata": {},
     "output_type": "execute_result"
    }
   ],
   "source": [
    "import numpy as np\n",
    "'''\n",
    "Función que añade un dobla el número de atributos\n",
    "añadiendo una permutación de los atributos existentes\n",
    "\n",
    "Los nuevos atributos no van a tener una relación fuerte con la clase.\n",
    "'''\n",
    "def add_random_permutations(X):\n",
    "    np.random.seed(seed=0)\n",
    "    random_atts = np.random.permutation(X)\n",
    "    return np.concatenate((X, random_atts), axis=1)\n",
    "\n",
    "\n",
    "add_random_permutations(np.array([[1,2],\n",
    "                                  [3,4],\n",
    "                                  [5,6],\n",
    "                                  [7,8],\n",
    "                                  [9,10]]))"
   ]
  },
  {
   "cell_type": "markdown",
   "metadata": {},
   "source": [
    "En la práctica se tiene que trabajar con los datasets almacenados en la lista `processed_datasets`, dicha lista contiene tuplas con nombre, `X` (atributos) e `y` (clase)."
   ]
  },
  {
   "cell_type": "code",
   "execution_count": 2,
   "metadata": {},
   "outputs": [],
   "source": [
    "'''\n",
    "Esta celda dobla el número de atributos creando atributos adicionales\n",
    "que son permuta de los originales.\n",
    "'''\n",
    "from sklearn.datasets import load_iris\n",
    "from sklearn.datasets import load_breast_cancer\n",
    "from sklearn.datasets import load_wine\n",
    "\n",
    "original_datasets = [(\"Iris\",load_iris()),\n",
    "                     (\"Cancer\",load_breast_cancer()),\n",
    "                     (\"Wine\",load_wine())]\n",
    "\n",
    "processed_datasets = []\n",
    "\n",
    "for name,dataset in original_datasets:\n",
    "    X = dataset[\"data\"]\n",
    "    y = dataset[\"target\"]\n",
    "    X = add_random_permutations(X)\n",
    "    processed_datasets.append((name,X,y))\n",
    "\n"
   ]
  },
  {
   "cell_type": "markdown",
   "metadata": {},
   "source": [
    "Ejemplo de como hacer selección de atributos utilizando un clasificador capaz de devolver la calidad de cada atributo, en el ejemplo se utiliza Random Forest."
   ]
  },
  {
   "cell_type": "code",
   "execution_count": 3,
   "metadata": {},
   "outputs": [
    {
     "data": {
      "text/plain": [
       "array([ True,  True,  True,  True, False, False, False, False])"
      ]
     },
     "execution_count": 3,
     "metadata": {},
     "output_type": "execute_result"
    }
   ],
   "source": [
    "from sklearn.ensemble import RandomForestClassifier\n",
    "\n",
    "from sklearn.feature_selection import SelectFromModel\n",
    "\n",
    "'''\n",
    "Ejemplo de como usar SelectFromModel para:\n",
    "1. Valorar la calidad de los atributos usando un clasificador, en este caso Random Forest.\n",
    "2. Seleccionar los atributos con una calidad superior a la mediana, \n",
    "es decir, selecciona el 50% mejor de los atributos.\n",
    "'''\n",
    "iris = load_iris()\n",
    "X_iris = iris[\"data\"]\n",
    "y_iris = iris[\"target\"]\n",
    "X_iris2 = add_random_permutations(X_iris)\n",
    "sel = SelectFromModel(RandomForestClassifier(random_state=42),threshold=\"median\").fit(X_iris2, y_iris)\n",
    "# Muestro cuales serían los atributos seleccionados.\n",
    "# Justamente son los originales.\n",
    "sel.get_support()"
   ]
  },
  {
   "cell_type": "markdown",
   "metadata": {},
   "source": [
    "<a id=\"index\"></a>\n",
    "## Tareas \n",
    "\n",
    "1. [Pipelines con y sin selección de atributos **(2.5 Puntos)**](#1)\n",
    "2. [Pipelines con selección de atributos con y sin optimizar atributos **(2.5 Puntos)**](#2)\n"
   ]
  },
  {
   "cell_type": "markdown",
   "metadata": {},
   "source": [
    "### 1. Pipelines con y sin selección de atributos **(2 Puntos)**<a id=\"1\"></a><a href=\"#index\"><i class=\"fa fa-list-alt\" aria-hidden=\"true\"></i></a>\n",
    "\n",
    "Pasos:\n",
    "1. Hacer un experimento utilizando Random Forest, Regresión Logística, Vecinos más cercanos, Árbol de decisión, Perceptrón Multicapa y SVM.\n",
    "    - Utilizando validación cruzada con 5 folds. Evaluando tasa de acierto.\n",
    "    - Los parámetros por defecto aparecen en la celda de código posterior.\n",
    "2. Hacer experimentos con los mismos clasificadores, pero esta vez dentro de un Pipeline cuyo primer paso sea seleccionar el 50% de los atributos (se deberían descartar los atributos añadidos artificialmente).\n",
    "3. Calcular el número de veces que, en cada dataset, gana el clasificador simple o el pipeline.\n",
    "4. Mostrar los resultados en forma de tabla.\n",
    "\n"
   ]
  },
  {
   "cell_type": "markdown",
   "metadata": {},
   "source": [
    "Ejemplo del resultado.\n",
    "\n",
    "(Los resultados exactos pueden variar)\n",
    "\n",
    "<table border=\"1\" class=\"dataframe\">\\n  <thead>\\n    <tr>\\n      <th></th>\\n      <th colspan=\"2\" halign=\"left\">Iris</th>\\n      <th colspan=\"2\" halign=\"left\">Cancer</th>\\n      <th colspan=\"2\" halign=\"left\">Wine</th>\\n    </tr>\\n    <tr>\\n      <th></th>\\n      <th>-</th>\\n      <th>Att_Sel</th>\\n      <th>-</th>\\n      <th>Att_Sel</th>\\n      <th>-</th>\\n      <th>Att_Sel</th>\\n    </tr>\\n    <tr>\\n      <th>Cls</th>\\n      <th></th>\\n      <th></th>\\n      <th></th>\\n      <th></th>\\n      <th></th>\\n      <th></th>\\n    </tr>\\n  </thead>\\n  <tbody>\\n    <tr>\\n      <th>RF</th>\\n      <td>0.960000</td>\\n      <td>0.966667</td>\\n      <td>0.959587</td>\\n      <td>0.959587</td>\\n      <td>0.960794</td>\\n      <td>0.972063</td>\\n    </tr>\\n    <tr>\\n      <th>LR</th>\\n      <td>0.926667</td>\\n      <td>0.960000</td>\\n      <td>0.950784</td>\\n      <td>0.957833</td>\\n      <td>0.938889</td>\\n      <td>0.966667</td>\\n    </tr>\\n    <tr>\\n      <th>KNN</th>\\n      <td>0.933333</td>\\n      <td>0.973333</td>\\n      <td>0.889225</td>\\n      <td>0.926192</td>\\n      <td>0.680794</td>\\n      <td>0.669048</td>\\n    </tr>\\n    <tr>\\n      <th>DT</th>\\n      <td>0.946667</td>\\n      <td>0.966667</td>\\n      <td>0.913864</td>\\n      <td>0.919174</td>\\n      <td>0.870635</td>\\n      <td>0.865238</td>\\n    </tr>\\n    <tr>\\n      <th>MLP</th>\\n      <td>0.966667</td>\\n      <td>0.980000</td>\\n      <td>0.908601</td>\\n      <td>0.926223</td>\\n      <td>0.736667</td>\\n      <td>0.605873</td>\\n    </tr>\\n    <tr>\\n      <th>SVM</th>\\n      <td>0.940000</td>\\n      <td>0.966667</td>\\n      <td>0.898075</td>\\n      <td>0.912172</td>\\n      <td>0.657778</td>\\n      <td>0.657937</td>\\n    </tr>\\n    <tr>\\n      <th>W/L</th>\\n      <td>0.000000</td>\\n      <td>6.000000</td>\\n      <td>0.000000</td>\\n      <td>5.000000</td>\\n      <td>3.000000</td>\\n      <td>3.000000</td>\\n    </tr>\\n  </tbody>\\n</table>"
   ]
  },
  {
   "cell_type": "code",
   "execution_count": 55,
   "metadata": {},
   "outputs": [
    {
     "name": "stdout",
     "output_type": "stream",
     "text": [
      "Resultados para Iris: COMPLETADO\n",
      "Resultados para Cancer: COMPLETADO\n",
      "Resultados para Wine: COMPLETADO\n"
     ]
    }
   ],
   "source": [
    "from sklearn.pipeline import Pipeline\n",
    "from sklearn.model_selection import cross_val_score\n",
    "from sklearn.feature_selection import SelectPercentile, f_classif\n",
    "import pandas as pd\n",
    "from sklearn.pipeline import Pipeline\n",
    "from sklearn.feature_selection import SelectFromModel\n",
    "from sklearn.model_selection import train_test_split\n",
    "from sklearn.metrics import accuracy_score\n",
    "from sklearn.ensemble import RandomForestClassifier\n",
    "from sklearn.linear_model import LogisticRegression\n",
    "from sklearn.neighbors import KNeighborsClassifier\n",
    "from sklearn.tree import DecisionTreeClassifier\n",
    "from sklearn.neural_network import MLPClassifier\n",
    "from sklearn.svm import SVC\n",
    "from sklearn.feature_selection import SelectPercentile, f_classif\n",
    "from sklearn.datasets import load_breast_cancer, load_wine\n",
    "\n",
    "# Cargar el conjunto de datos de cáncer de mama\n",
    "cancer_data = load_breast_cancer()\n",
    "X_cancer = cancer_data.data\n",
    "y_cancer = cancer_data.target\n",
    "\n",
    "# Cargar el conjunto de datos de vino\n",
    "wine_data = load_wine()\n",
    "X_wine = wine_data.data\n",
    "y_wine = wine_data.target\n",
    "\n",
    "# Función para realizar el experimento y mostrar los resultados para un conjunto de datos dado\n",
    "def experimentar(X, y, dataset_name):\n",
    "    # Definir los clasificadores\n",
    "    clasificadores = [\n",
    "        (RandomForestClassifier(random_state=42), \"RF\"),\n",
    "        (LogisticRegression(max_iter=1000, solver=\"liblinear\"), \"LR\"),\n",
    "        (KNeighborsClassifier(), \"KNN\"),\n",
    "        (DecisionTreeClassifier(), \"DT\"),\n",
    "        (MLPClassifier(max_iter=2000), \"MLP\"),\n",
    "        (SVC(), \"SVM\")\n",
    "    ]\n",
    "\n",
    "    # Realizar experimento y mostrar resultados\n",
    "    resultados = pd.DataFrame(index=[clf_name for _, clf_name in clasificadores], columns=[\"-\"])\n",
    "\n",
    "    for clf, clf_name in clasificadores:\n",
    "        scores = cross_val_score(clf, X, y, cv=5)\n",
    "        mean_score = scores.mean()\n",
    "        resultados.loc[clf_name, \"-\"] = mean_score\n",
    "\n",
    "    # Crear un DataFrame vacío para almacenar los resultados del Pipeline\n",
    "    resultados_pipeline = pd.DataFrame(index=[clf_name for _, clf_name in clasificadores], columns=[\"Att_Sel\"])\n",
    "\n",
    "    # Iterar sobre cada clasificador\n",
    "    for clf, clf_name in clasificadores:\n",
    "        # Crear Pipeline con selección de atributos y clasificador\n",
    "        pipe = Pipeline([\n",
    "            ('feature_selection', SelectFromModel(RandomForestClassifier(random_state=42),threshold=\"median\")),\n",
    "            ('classification', clf)\n",
    "        ])\n",
    "\n",
    "        # Calcular la precisión del modelo utilizando validación cruzada\n",
    "        scores = cross_val_score(pipe, X, y, cv=5)\n",
    "        mean_accuracy = scores.mean()\n",
    "\n",
    "        # Almacenar el resultado en el DataFrame\n",
    "        resultados_pipeline.loc[clf_name, \"Att_Sel\"] = mean_accuracy\n",
    "\n",
    "    # Combinar los resultados del enfoque original y del Pipeline en un solo DataFrame\n",
    "    resultados_combinados = pd.concat([resultados, resultados_pipeline], axis=1)\n",
    "\n",
    "    #Hace que aparezca una nueva columna con las restas\n",
    "    resultados_combinados['Diferencia'] = resultados_combinados['-'] - resultados_combinados['Att_Sel']\n",
    "\n",
    "    # Calcular la cuenta de números negativos en la columna 'Diferencia'\n",
    "    numeros_negativos = resultados_combinados['Diferencia'][resultados_combinados['Diferencia'] < 0].count()\n",
    "    \n",
    "    # Calcular la suma de números positivos en la columna 'Diferencia'\n",
    "    numeros_positivos = resultados_combinados['Diferencia'][resultados_combinados['Diferencia'] > 0].count()\n",
    "\n",
    "    # Crear una nueva fila con los valores calculados\n",
    "    nueva_fila = pd.DataFrame([[numeros_positivos, numeros_negativos, numeros_positivos]], columns=resultados_combinados.columns)\n",
    "\n",
    "    # Concatenar la nueva fila al DataFrame original\n",
    "    resultados_combinados = pd.concat([resultados_combinados, nueva_fila], ignore_index=True)\n",
    "\n",
    "    # Supongamos que quieres eliminar la columna 'Diferencia'\n",
    "    resultados_combinados = resultados_combinados.drop(columns=['Diferencia'])\n",
    "\n",
    "    # Asignar valores específicos a los índices de las filas\n",
    "    resultados_combinados.index = ['RF', 'LR', 'KNN', 'DT', 'MLP', 'SVM', 'W/L']\n",
    "\n",
    "    # Configurar el formato de visualización para mostrar 6 decimales\n",
    "    pd.options.display.float_format = '{:.6f}'.format\n",
    "\n",
    "    resultados_combinados.columns = pd.MultiIndex.from_tuples([(dataset_name,\"-\"), (dataset_name,\"Att_Sel\")])\n",
    "\n",
    "    # Mostrar los resultados combinados\n",
    "    print(f\"Resultados para {dataset_name}: COMPLETADO\")\n",
    "    return resultados_combinados\n",
    "    \n",
    "\n",
    "\n",
    "d1 = experimentar(X_iris, y_iris, \"Iris\")\n",
    "d2 = experimentar(X_cancer, y_cancer, \"Cancer\")\n",
    "d3 = experimentar(X_wine, y_wine, \"Wine\")\n",
    "\n",
    "\n"
   ]
  },
  {
   "cell_type": "code",
   "execution_count": 56,
   "metadata": {},
   "outputs": [
    {
     "data": {
      "text/html": [
       "<div>\n",
       "<style scoped>\n",
       "    .dataframe tbody tr th:only-of-type {\n",
       "        vertical-align: middle;\n",
       "    }\n",
       "\n",
       "    .dataframe tbody tr th {\n",
       "        vertical-align: top;\n",
       "    }\n",
       "\n",
       "    .dataframe thead tr th {\n",
       "        text-align: left;\n",
       "    }\n",
       "</style>\n",
       "<table border=\"1\" class=\"dataframe\">\n",
       "  <thead>\n",
       "    <tr>\n",
       "      <th></th>\n",
       "      <th colspan=\"2\" halign=\"left\">Iris</th>\n",
       "      <th colspan=\"2\" halign=\"left\">Cancer</th>\n",
       "      <th colspan=\"2\" halign=\"left\">Wine</th>\n",
       "    </tr>\n",
       "    <tr>\n",
       "      <th></th>\n",
       "      <th>-</th>\n",
       "      <th>Att_Sel</th>\n",
       "      <th>-</th>\n",
       "      <th>Att_Sel</th>\n",
       "      <th>-</th>\n",
       "      <th>Att_Sel</th>\n",
       "    </tr>\n",
       "  </thead>\n",
       "  <tbody>\n",
       "    <tr>\n",
       "      <th>RF</th>\n",
       "      <td>0.966667</td>\n",
       "      <td>0.966667</td>\n",
       "      <td>0.956094</td>\n",
       "      <td>0.957833</td>\n",
       "      <td>0.972063</td>\n",
       "      <td>0.960794</td>\n",
       "    </tr>\n",
       "    <tr>\n",
       "      <th>LR</th>\n",
       "      <td>0.960000</td>\n",
       "      <td>0.866667</td>\n",
       "      <td>0.950815</td>\n",
       "      <td>0.952569</td>\n",
       "      <td>0.961111</td>\n",
       "      <td>0.932857</td>\n",
       "    </tr>\n",
       "    <tr>\n",
       "      <th>KNN</th>\n",
       "      <td>0.973333</td>\n",
       "      <td>0.966667</td>\n",
       "      <td>0.927946</td>\n",
       "      <td>0.926176</td>\n",
       "      <td>0.691270</td>\n",
       "      <td>0.690635</td>\n",
       "    </tr>\n",
       "    <tr>\n",
       "      <th>DT</th>\n",
       "      <td>0.960000</td>\n",
       "      <td>0.953333</td>\n",
       "      <td>0.920897</td>\n",
       "      <td>0.920882</td>\n",
       "      <td>0.887619</td>\n",
       "      <td>0.876508</td>\n",
       "    </tr>\n",
       "    <tr>\n",
       "      <th>MLP</th>\n",
       "      <td>0.980000</td>\n",
       "      <td>0.960000</td>\n",
       "      <td>0.927915</td>\n",
       "      <td>0.936764</td>\n",
       "      <td>0.476349</td>\n",
       "      <td>0.398413</td>\n",
       "    </tr>\n",
       "    <tr>\n",
       "      <th>SVM</th>\n",
       "      <td>0.966667</td>\n",
       "      <td>0.960000</td>\n",
       "      <td>0.912172</td>\n",
       "      <td>0.913942</td>\n",
       "      <td>0.663492</td>\n",
       "      <td>0.669048</td>\n",
       "    </tr>\n",
       "    <tr>\n",
       "      <th>W/L</th>\n",
       "      <td>5</td>\n",
       "      <td>0</td>\n",
       "      <td>2</td>\n",
       "      <td>4</td>\n",
       "      <td>5</td>\n",
       "      <td>1</td>\n",
       "    </tr>\n",
       "  </tbody>\n",
       "</table>\n",
       "</div>"
      ],
      "text/plain": [
       "        Iris            Cancer              Wine         \n",
       "           -  Att_Sel        -  Att_Sel        -  Att_Sel\n",
       "RF  0.966667 0.966667 0.956094 0.957833 0.972063 0.960794\n",
       "LR  0.960000 0.866667 0.950815 0.952569 0.961111 0.932857\n",
       "KNN 0.973333 0.966667 0.927946 0.926176 0.691270 0.690635\n",
       "DT  0.960000 0.953333 0.920897 0.920882 0.887619 0.876508\n",
       "MLP 0.980000 0.960000 0.927915 0.936764 0.476349 0.398413\n",
       "SVM 0.966667 0.960000 0.912172 0.913942 0.663492 0.669048\n",
       "W/L        5        0        2        4        5        1"
      ]
     },
     "execution_count": 56,
     "metadata": {},
     "output_type": "execute_result"
    }
   ],
   "source": [
    "pd.concat([d1,d2,d3],axis=1)\n"
   ]
  },
  {
   "cell_type": "markdown",
   "metadata": {},
   "source": [
    "#### Pistas\n",
    "\n",
    "Si se quiere hacer una tabla de resultados como la de ejemplo necesitamos \"nombres de columnas dobles\"."
   ]
  },
  {
   "cell_type": "code",
   "execution_count": 6,
   "metadata": {},
   "outputs": [
    {
     "data": {
      "text/html": [
       "<div>\n",
       "<style scoped>\n",
       "    .dataframe tbody tr th:only-of-type {\n",
       "        vertical-align: middle;\n",
       "    }\n",
       "\n",
       "    .dataframe tbody tr th {\n",
       "        vertical-align: top;\n",
       "    }\n",
       "\n",
       "    .dataframe thead th {\n",
       "        text-align: right;\n",
       "    }\n",
       "</style>\n",
       "<table border=\"1\" class=\"dataframe\">\n",
       "  <thead>\n",
       "    <tr style=\"text-align: right;\">\n",
       "      <th></th>\n",
       "      <th>Att 1</th>\n",
       "      <th>Att 2</th>\n",
       "      <th>Att 3</th>\n",
       "      <th>Att 4</th>\n",
       "    </tr>\n",
       "  </thead>\n",
       "  <tbody>\n",
       "    <tr>\n",
       "      <th>0</th>\n",
       "      <td>1</td>\n",
       "      <td>10</td>\n",
       "      <td>11</td>\n",
       "      <td>11</td>\n",
       "    </tr>\n",
       "    <tr>\n",
       "      <th>1</th>\n",
       "      <td>2</td>\n",
       "      <td>20</td>\n",
       "      <td>12</td>\n",
       "      <td>21</td>\n",
       "    </tr>\n",
       "    <tr>\n",
       "      <th>2</th>\n",
       "      <td>3</td>\n",
       "      <td>30</td>\n",
       "      <td>13</td>\n",
       "      <td>31</td>\n",
       "    </tr>\n",
       "    <tr>\n",
       "      <th>3</th>\n",
       "      <td>4</td>\n",
       "      <td>40</td>\n",
       "      <td>14</td>\n",
       "      <td>41</td>\n",
       "    </tr>\n",
       "    <tr>\n",
       "      <th>4</th>\n",
       "      <td>5</td>\n",
       "      <td>50</td>\n",
       "      <td>15</td>\n",
       "      <td>51</td>\n",
       "    </tr>\n",
       "  </tbody>\n",
       "</table>\n",
       "</div>"
      ],
      "text/plain": [
       "   Att 1  Att 2  Att 3  Att 4\n",
       "0      1     10     11     11\n",
       "1      2     20     12     21\n",
       "2      3     30     13     31\n",
       "3      4     40     14     41\n",
       "4      5     50     15     51"
      ]
     },
     "metadata": {},
     "output_type": "display_data"
    },
    {
     "data": {
      "text/html": [
       "<div>\n",
       "<style scoped>\n",
       "    .dataframe tbody tr th:only-of-type {\n",
       "        vertical-align: middle;\n",
       "    }\n",
       "\n",
       "    .dataframe tbody tr th {\n",
       "        vertical-align: top;\n",
       "    }\n",
       "\n",
       "    .dataframe thead tr th {\n",
       "        text-align: left;\n",
       "    }\n",
       "</style>\n",
       "<table border=\"1\" class=\"dataframe\">\n",
       "  <thead>\n",
       "    <tr>\n",
       "      <th></th>\n",
       "      <th colspan=\"2\" halign=\"left\">Categoría A</th>\n",
       "      <th colspan=\"2\" halign=\"left\">Categoría B</th>\n",
       "    </tr>\n",
       "    <tr>\n",
       "      <th></th>\n",
       "      <th>Att 1</th>\n",
       "      <th>Att 2</th>\n",
       "      <th>Att 3</th>\n",
       "      <th>Att 4</th>\n",
       "    </tr>\n",
       "  </thead>\n",
       "  <tbody>\n",
       "    <tr>\n",
       "      <th>0</th>\n",
       "      <td>1</td>\n",
       "      <td>10</td>\n",
       "      <td>11</td>\n",
       "      <td>11</td>\n",
       "    </tr>\n",
       "    <tr>\n",
       "      <th>1</th>\n",
       "      <td>2</td>\n",
       "      <td>20</td>\n",
       "      <td>12</td>\n",
       "      <td>21</td>\n",
       "    </tr>\n",
       "    <tr>\n",
       "      <th>2</th>\n",
       "      <td>3</td>\n",
       "      <td>30</td>\n",
       "      <td>13</td>\n",
       "      <td>31</td>\n",
       "    </tr>\n",
       "    <tr>\n",
       "      <th>3</th>\n",
       "      <td>4</td>\n",
       "      <td>40</td>\n",
       "      <td>14</td>\n",
       "      <td>41</td>\n",
       "    </tr>\n",
       "    <tr>\n",
       "      <th>4</th>\n",
       "      <td>5</td>\n",
       "      <td>50</td>\n",
       "      <td>15</td>\n",
       "      <td>51</td>\n",
       "    </tr>\n",
       "  </tbody>\n",
       "</table>\n",
       "</div>"
      ],
      "text/plain": [
       "  Categoría A       Categoría B      \n",
       "        Att 1 Att 2       Att 3 Att 4\n",
       "0           1    10          11    11\n",
       "1           2    20          12    21\n",
       "2           3    30          13    31\n",
       "3           4    40          14    41\n",
       "4           5    50          15    51"
      ]
     },
     "metadata": {},
     "output_type": "display_data"
    }
   ],
   "source": [
    "import pandas as pd\n",
    "\n",
    "df1 = pd.DataFrame({\"Att 1\":[1,2,3,4,5],\n",
    "                   \"Att 2\":[10,20,30,40,50],\n",
    "                   \"Att 3\":[11,12,13,14,15],\n",
    "                   \"Att 4\":[11,21,31,41,51]})\n",
    "display(df1)\n",
    "\n",
    "df1.columns = pd.MultiIndex.from_tuples([(\"Categoría A\",\"Att 1\"),\n",
    "                                         (\"Categoría A\",\"Att 2\"),\n",
    "                                         (\"Categoría B\",\"Att 3\"),\n",
    "                                         (\"Categoría B\",\"Att 4\")])\n",
    "display(df1)"
   ]
  },
  {
   "cell_type": "code",
   "execution_count": 18,
   "metadata": {},
   "outputs": [
    {
     "data": {
      "text/plain": [
       "1000.0"
      ]
     },
     "execution_count": 18,
     "metadata": {},
     "output_type": "execute_result"
    }
   ],
   "source": [
    "np.logspace(-9, 3, 13)[-1]"
   ]
  },
  {
   "cell_type": "markdown",
   "metadata": {},
   "source": [
    "### 2. Pipelines con selección de atributos con y sin optimización de parámetros **(2 Puntos)**<a id=\"2\"></a><a href=\"#index\"><i class=\"fa fa-list-alt\" aria-hidden=\"true\"></i></a>\n",
    "\n",
    "Se pide optimizar únicamente los parámetros de los clasificadores más sensibles a la elección de parámetros: SVM y Multilayer Perceptron (aunque opcionalmente se podrían optimizar otros clasificadores para comprobar que los parámetros no tienen tanto impacto)\n",
    "\n",
    "En el caso de SVM se quieren optimizar los parámetros:\n",
    "- C:\n",
    "    - 0.01, 0.1, 1, ..., 1000000000\n",
    "- gamma:\n",
    "    - 0.00000001, 0.0000001, 0.000001, ..., 1000\n",
    "Usando GridSearch con cv = 5.\n",
    "\n",
    "En el caso del MLP:\n",
    "- alpha\n",
    "    - 0.00001, 0.0001, ..., 0.1\n",
    "- Número de neuronas en la capa oculta\n",
    "    - (50,), (100,), (200,), (500,), (1000,)\n",
    "\n",
    "El objetivo es obtener una tabla como la del ejercio anterior, pero esta vez comparando clasificadores sin optimizar vs clasificadores con los parámetros optimizados."
   ]
  },
  {
   "cell_type": "markdown",
   "metadata": {},
   "source": [
    "#### Pistas\n",
    "\n",
    "`linspace` y `logspace` permiten crear secuencias de números equidistantes ya sea en la escala lineal o en la escala logarítmica,"
   ]
  },
  {
   "cell_type": "code",
   "execution_count": 19,
   "metadata": {},
   "outputs": [
    {
     "data": {
      "text/plain": [
       "array([  0.,  25.,  50.,  75., 100.])"
      ]
     },
     "execution_count": 19,
     "metadata": {},
     "output_type": "execute_result"
    }
   ],
   "source": [
    "np.linspace(0, 100, 5)"
   ]
  },
  {
   "cell_type": "code",
   "execution_count": 31,
   "metadata": {},
   "outputs": [
    {
     "data": {
      "text/plain": [
       "array([1.e-02, 1.e-01, 1.e+00, 1.e+01, 1.e+02])"
      ]
     },
     "execution_count": 31,
     "metadata": {},
     "output_type": "execute_result"
    }
   ],
   "source": [
    "np.logspace(-2, 2, 5)"
   ]
  }
 ],
 "metadata": {
  "colab": {
   "provenance": []
  },
  "kernelspec": {
   "display_name": "Python 3 (ipykernel)",
   "language": "python",
   "name": "python3"
  },
  "language_info": {
   "codemirror_mode": {
    "name": "ipython",
    "version": 3
   },
   "file_extension": ".py",
   "mimetype": "text/x-python",
   "name": "python",
   "nbconvert_exporter": "python",
   "pygments_lexer": "ipython3",
   "version": "3.11.8"
  }
 },
 "nbformat": 4,
 "nbformat_minor": 4
}
